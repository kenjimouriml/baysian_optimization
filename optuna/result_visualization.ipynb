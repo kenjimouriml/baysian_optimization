{
 "cells": [
  {
   "cell_type": "code",
   "execution_count": 1,
   "metadata": {},
   "outputs": [],
   "source": [
    "import optuna\n",
    "import plotly\n",
    "\n",
    "import matplotlib.pyplot as plt\n",
    "%matplotlib inline\n",
    "\n",
    "import sqlite3"
   ]
  },
  {
   "cell_type": "code",
   "execution_count": 2,
   "metadata": {},
   "outputs": [],
   "source": [
    "db_name = \"diabetes_trial.db\"\n",
    "conn = sqlite3.connect(db_name)"
   ]
  },
  {
   "cell_type": "code",
   "execution_count": 3,
   "metadata": {},
   "outputs": [
    {
     "name": "stdout",
     "output_type": "stream",
     "text": [
      "best params :  {'dropout_rate': 0.1724543681758944, 'n_layers': 2, 'n_units': 5, 'optimizer': 'Adam'}\n",
      "best values :  0.4529457417096985\n"
     ]
    }
   ],
   "source": [
    "study = optuna.load_study(\n",
    "    study_name=\"diabetes_trial\", \n",
    "    storage=\"sqlite:///{}\".format(db_name)\n",
    ")\n",
    "\n",
    "conn.close()\n",
    "\n",
    "print(\"best params : \", study.best_params)\n",
    "print(\"best values : \", study.best_value)"
   ]
  },
  {
   "cell_type": "code",
   "execution_count": 4,
   "metadata": {},
   "outputs": [
    {
     "data": {
      "text/html": [
       "<div>\n",
       "<style>\n",
       "    .dataframe thead tr:only-child th {\n",
       "        text-align: right;\n",
       "    }\n",
       "\n",
       "    .dataframe thead th {\n",
       "        text-align: left;\n",
       "    }\n",
       "\n",
       "    .dataframe tbody tr th {\n",
       "        vertical-align: top;\n",
       "    }\n",
       "</style>\n",
       "<table border=\"1\" class=\"dataframe\">\n",
       "  <thead>\n",
       "    <tr>\n",
       "      <th></th>\n",
       "      <th>number</th>\n",
       "      <th>state</th>\n",
       "      <th>value</th>\n",
       "      <th>datetime_start</th>\n",
       "      <th>datetime_complete</th>\n",
       "      <th colspan=\"4\" halign=\"left\">params</th>\n",
       "      <th>system_attrs</th>\n",
       "    </tr>\n",
       "    <tr>\n",
       "      <th></th>\n",
       "      <th></th>\n",
       "      <th></th>\n",
       "      <th></th>\n",
       "      <th></th>\n",
       "      <th></th>\n",
       "      <th>dropout_rate</th>\n",
       "      <th>n_layers</th>\n",
       "      <th>n_units</th>\n",
       "      <th>optimizer</th>\n",
       "      <th>_number</th>\n",
       "    </tr>\n",
       "  </thead>\n",
       "  <tbody>\n",
       "    <tr>\n",
       "      <th>0</th>\n",
       "      <td>0</td>\n",
       "      <td>TrialState.COMPLETE</td>\n",
       "      <td>0.584088</td>\n",
       "      <td>2019-09-29 17:52:55.724960</td>\n",
       "      <td>2019-09-29 17:52:56.846845</td>\n",
       "      <td>0.102112</td>\n",
       "      <td>1</td>\n",
       "      <td>3</td>\n",
       "      <td>Adam</td>\n",
       "      <td>0</td>\n",
       "    </tr>\n",
       "    <tr>\n",
       "      <th>1</th>\n",
       "      <td>1</td>\n",
       "      <td>TrialState.COMPLETE</td>\n",
       "      <td>0.469531</td>\n",
       "      <td>2019-09-29 17:52:56.860196</td>\n",
       "      <td>2019-09-29 17:52:58.333973</td>\n",
       "      <td>0.403568</td>\n",
       "      <td>2</td>\n",
       "      <td>5</td>\n",
       "      <td>RMSprop</td>\n",
       "      <td>1</td>\n",
       "    </tr>\n",
       "    <tr>\n",
       "      <th>2</th>\n",
       "      <td>2</td>\n",
       "      <td>TrialState.COMPLETE</td>\n",
       "      <td>0.527052</td>\n",
       "      <td>2019-09-29 17:52:58.349499</td>\n",
       "      <td>2019-09-29 17:53:00.214348</td>\n",
       "      <td>0.188369</td>\n",
       "      <td>3</td>\n",
       "      <td>4</td>\n",
       "      <td>RMSprop</td>\n",
       "      <td>2</td>\n",
       "    </tr>\n",
       "    <tr>\n",
       "      <th>3</th>\n",
       "      <td>3</td>\n",
       "      <td>TrialState.COMPLETE</td>\n",
       "      <td>0.582462</td>\n",
       "      <td>2019-09-29 17:53:00.227904</td>\n",
       "      <td>2019-09-29 17:53:01.569645</td>\n",
       "      <td>0.205127</td>\n",
       "      <td>1</td>\n",
       "      <td>5</td>\n",
       "      <td>RMSprop</td>\n",
       "      <td>3</td>\n",
       "    </tr>\n",
       "    <tr>\n",
       "      <th>4</th>\n",
       "      <td>4</td>\n",
       "      <td>TrialState.COMPLETE</td>\n",
       "      <td>0.597216</td>\n",
       "      <td>2019-09-29 17:53:01.583701</td>\n",
       "      <td>2019-09-29 17:53:02.944840</td>\n",
       "      <td>0.357806</td>\n",
       "      <td>1</td>\n",
       "      <td>3</td>\n",
       "      <td>RMSprop</td>\n",
       "      <td>4</td>\n",
       "    </tr>\n",
       "    <tr>\n",
       "      <th>5</th>\n",
       "      <td>5</td>\n",
       "      <td>TrialState.COMPLETE</td>\n",
       "      <td>0.535746</td>\n",
       "      <td>2019-09-29 17:53:02.959307</td>\n",
       "      <td>2019-09-29 17:53:04.409663</td>\n",
       "      <td>0.420148</td>\n",
       "      <td>1</td>\n",
       "      <td>5</td>\n",
       "      <td>RMSprop</td>\n",
       "      <td>5</td>\n",
       "    </tr>\n",
       "    <tr>\n",
       "      <th>6</th>\n",
       "      <td>6</td>\n",
       "      <td>TrialState.COMPLETE</td>\n",
       "      <td>0.534742</td>\n",
       "      <td>2019-09-29 17:53:04.424656</td>\n",
       "      <td>2019-09-29 17:53:05.866837</td>\n",
       "      <td>0.392317</td>\n",
       "      <td>1</td>\n",
       "      <td>4</td>\n",
       "      <td>Adam</td>\n",
       "      <td>6</td>\n",
       "    </tr>\n",
       "    <tr>\n",
       "      <th>7</th>\n",
       "      <td>7</td>\n",
       "      <td>TrialState.COMPLETE</td>\n",
       "      <td>0.632229</td>\n",
       "      <td>2019-09-29 17:53:05.880926</td>\n",
       "      <td>2019-09-29 17:53:07.729753</td>\n",
       "      <td>0.299196</td>\n",
       "      <td>2</td>\n",
       "      <td>3</td>\n",
       "      <td>RMSprop</td>\n",
       "      <td>7</td>\n",
       "    </tr>\n",
       "    <tr>\n",
       "      <th>8</th>\n",
       "      <td>8</td>\n",
       "      <td>TrialState.COMPLETE</td>\n",
       "      <td>0.523731</td>\n",
       "      <td>2019-09-29 17:53:07.746367</td>\n",
       "      <td>2019-09-29 17:53:09.578452</td>\n",
       "      <td>0.408872</td>\n",
       "      <td>1</td>\n",
       "      <td>4</td>\n",
       "      <td>RMSprop</td>\n",
       "      <td>8</td>\n",
       "    </tr>\n",
       "    <tr>\n",
       "      <th>9</th>\n",
       "      <td>9</td>\n",
       "      <td>TrialState.COMPLETE</td>\n",
       "      <td>0.523120</td>\n",
       "      <td>2019-09-29 17:53:09.594656</td>\n",
       "      <td>2019-09-29 17:53:12.153645</td>\n",
       "      <td>0.304206</td>\n",
       "      <td>3</td>\n",
       "      <td>5</td>\n",
       "      <td>RMSprop</td>\n",
       "      <td>9</td>\n",
       "    </tr>\n",
       "    <tr>\n",
       "      <th>10</th>\n",
       "      <td>10</td>\n",
       "      <td>TrialState.COMPLETE</td>\n",
       "      <td>0.558494</td>\n",
       "      <td>2019-09-29 17:56:53.559311</td>\n",
       "      <td>2019-09-29 17:56:55.035673</td>\n",
       "      <td>0.464272</td>\n",
       "      <td>2</td>\n",
       "      <td>5</td>\n",
       "      <td>Adam</td>\n",
       "      <td>10</td>\n",
       "    </tr>\n",
       "    <tr>\n",
       "      <th>11</th>\n",
       "      <td>11</td>\n",
       "      <td>TrialState.COMPLETE</td>\n",
       "      <td>0.510326</td>\n",
       "      <td>2019-09-29 17:56:55.049237</td>\n",
       "      <td>2019-09-29 17:56:56.948261</td>\n",
       "      <td>0.296677</td>\n",
       "      <td>3</td>\n",
       "      <td>5</td>\n",
       "      <td>RMSprop</td>\n",
       "      <td>11</td>\n",
       "    </tr>\n",
       "    <tr>\n",
       "      <th>12</th>\n",
       "      <td>12</td>\n",
       "      <td>TrialState.COMPLETE</td>\n",
       "      <td>0.581063</td>\n",
       "      <td>2019-09-29 17:56:56.963684</td>\n",
       "      <td>2019-09-29 17:56:59.006880</td>\n",
       "      <td>0.497227</td>\n",
       "      <td>3</td>\n",
       "      <td>5</td>\n",
       "      <td>RMSprop</td>\n",
       "      <td>12</td>\n",
       "    </tr>\n",
       "    <tr>\n",
       "      <th>13</th>\n",
       "      <td>13</td>\n",
       "      <td>TrialState.COMPLETE</td>\n",
       "      <td>0.631989</td>\n",
       "      <td>2019-09-29 17:56:59.022042</td>\n",
       "      <td>2019-09-29 17:57:00.750605</td>\n",
       "      <td>0.274618</td>\n",
       "      <td>2</td>\n",
       "      <td>5</td>\n",
       "      <td>RMSprop</td>\n",
       "      <td>13</td>\n",
       "    </tr>\n",
       "    <tr>\n",
       "      <th>14</th>\n",
       "      <td>14</td>\n",
       "      <td>TrialState.COMPLETE</td>\n",
       "      <td>0.518718</td>\n",
       "      <td>2019-09-29 17:57:00.765432</td>\n",
       "      <td>2019-09-29 17:57:02.990724</td>\n",
       "      <td>0.001315</td>\n",
       "      <td>3</td>\n",
       "      <td>4</td>\n",
       "      <td>RMSprop</td>\n",
       "      <td>14</td>\n",
       "    </tr>\n",
       "    <tr>\n",
       "      <th>15</th>\n",
       "      <td>15</td>\n",
       "      <td>TrialState.COMPLETE</td>\n",
       "      <td>0.611784</td>\n",
       "      <td>2019-09-29 17:57:03.006980</td>\n",
       "      <td>2019-09-29 17:57:04.919520</td>\n",
       "      <td>0.341965</td>\n",
       "      <td>2</td>\n",
       "      <td>5</td>\n",
       "      <td>RMSprop</td>\n",
       "      <td>15</td>\n",
       "    </tr>\n",
       "    <tr>\n",
       "      <th>16</th>\n",
       "      <td>16</td>\n",
       "      <td>TrialState.COMPLETE</td>\n",
       "      <td>0.586585</td>\n",
       "      <td>2019-09-29 17:57:04.936181</td>\n",
       "      <td>2019-09-29 17:57:07.171073</td>\n",
       "      <td>0.211274</td>\n",
       "      <td>3</td>\n",
       "      <td>4</td>\n",
       "      <td>RMSprop</td>\n",
       "      <td>16</td>\n",
       "    </tr>\n",
       "    <tr>\n",
       "      <th>17</th>\n",
       "      <td>17</td>\n",
       "      <td>TrialState.COMPLETE</td>\n",
       "      <td>0.504996</td>\n",
       "      <td>2019-09-29 17:57:07.187342</td>\n",
       "      <td>2019-09-29 17:57:09.146533</td>\n",
       "      <td>0.133644</td>\n",
       "      <td>2</td>\n",
       "      <td>5</td>\n",
       "      <td>Adam</td>\n",
       "      <td>17</td>\n",
       "    </tr>\n",
       "    <tr>\n",
       "      <th>18</th>\n",
       "      <td>18</td>\n",
       "      <td>TrialState.COMPLETE</td>\n",
       "      <td>0.489222</td>\n",
       "      <td>2019-09-29 17:57:09.161559</td>\n",
       "      <td>2019-09-29 17:57:11.217835</td>\n",
       "      <td>0.066461</td>\n",
       "      <td>2</td>\n",
       "      <td>5</td>\n",
       "      <td>Adam</td>\n",
       "      <td>18</td>\n",
       "    </tr>\n",
       "    <tr>\n",
       "      <th>19</th>\n",
       "      <td>19</td>\n",
       "      <td>TrialState.COMPLETE</td>\n",
       "      <td>0.529187</td>\n",
       "      <td>2019-09-29 17:57:11.234281</td>\n",
       "      <td>2019-09-29 17:57:13.316862</td>\n",
       "      <td>0.019623</td>\n",
       "      <td>2</td>\n",
       "      <td>4</td>\n",
       "      <td>Adam</td>\n",
       "      <td>19</td>\n",
       "    </tr>\n",
       "    <tr>\n",
       "      <th>20</th>\n",
       "      <td>20</td>\n",
       "      <td>TrialState.COMPLETE</td>\n",
       "      <td>0.515134</td>\n",
       "      <td>2019-09-29 17:57:13.336098</td>\n",
       "      <td>2019-09-29 17:57:15.518694</td>\n",
       "      <td>0.070588</td>\n",
       "      <td>2</td>\n",
       "      <td>5</td>\n",
       "      <td>Adam</td>\n",
       "      <td>20</td>\n",
       "    </tr>\n",
       "    <tr>\n",
       "      <th>21</th>\n",
       "      <td>21</td>\n",
       "      <td>TrialState.COMPLETE</td>\n",
       "      <td>0.540927</td>\n",
       "      <td>2019-09-29 17:57:15.535251</td>\n",
       "      <td>2019-09-29 17:57:17.832979</td>\n",
       "      <td>0.137835</td>\n",
       "      <td>2</td>\n",
       "      <td>5</td>\n",
       "      <td>Adam</td>\n",
       "      <td>21</td>\n",
       "    </tr>\n",
       "    <tr>\n",
       "      <th>22</th>\n",
       "      <td>22</td>\n",
       "      <td>TrialState.COMPLETE</td>\n",
       "      <td>0.482138</td>\n",
       "      <td>2019-09-29 17:57:17.850200</td>\n",
       "      <td>2019-09-29 17:57:20.197553</td>\n",
       "      <td>0.051503</td>\n",
       "      <td>2</td>\n",
       "      <td>5</td>\n",
       "      <td>Adam</td>\n",
       "      <td>22</td>\n",
       "    </tr>\n",
       "    <tr>\n",
       "      <th>23</th>\n",
       "      <td>23</td>\n",
       "      <td>TrialState.COMPLETE</td>\n",
       "      <td>0.499502</td>\n",
       "      <td>2019-09-29 17:57:20.214888</td>\n",
       "      <td>2019-09-29 17:57:22.691521</td>\n",
       "      <td>0.056271</td>\n",
       "      <td>2</td>\n",
       "      <td>5</td>\n",
       "      <td>Adam</td>\n",
       "      <td>23</td>\n",
       "    </tr>\n",
       "    <tr>\n",
       "      <th>24</th>\n",
       "      <td>24</td>\n",
       "      <td>TrialState.COMPLETE</td>\n",
       "      <td>0.525741</td>\n",
       "      <td>2019-09-29 17:57:22.708040</td>\n",
       "      <td>2019-09-29 17:57:25.163836</td>\n",
       "      <td>0.034634</td>\n",
       "      <td>2</td>\n",
       "      <td>5</td>\n",
       "      <td>Adam</td>\n",
       "      <td>24</td>\n",
       "    </tr>\n",
       "    <tr>\n",
       "      <th>25</th>\n",
       "      <td>25</td>\n",
       "      <td>TrialState.COMPLETE</td>\n",
       "      <td>0.463600</td>\n",
       "      <td>2019-09-29 17:57:25.180161</td>\n",
       "      <td>2019-09-29 17:57:27.790583</td>\n",
       "      <td>0.144224</td>\n",
       "      <td>2</td>\n",
       "      <td>5</td>\n",
       "      <td>Adam</td>\n",
       "      <td>25</td>\n",
       "    </tr>\n",
       "    <tr>\n",
       "      <th>26</th>\n",
       "      <td>26</td>\n",
       "      <td>TrialState.COMPLETE</td>\n",
       "      <td>0.512739</td>\n",
       "      <td>2019-09-29 17:57:27.807793</td>\n",
       "      <td>2019-09-29 17:57:30.430818</td>\n",
       "      <td>0.149775</td>\n",
       "      <td>2</td>\n",
       "      <td>4</td>\n",
       "      <td>Adam</td>\n",
       "      <td>26</td>\n",
       "    </tr>\n",
       "    <tr>\n",
       "      <th>27</th>\n",
       "      <td>27</td>\n",
       "      <td>TrialState.COMPLETE</td>\n",
       "      <td>0.471170</td>\n",
       "      <td>2019-09-29 17:57:30.448324</td>\n",
       "      <td>2019-09-29 17:57:33.239900</td>\n",
       "      <td>0.242222</td>\n",
       "      <td>2</td>\n",
       "      <td>5</td>\n",
       "      <td>Adam</td>\n",
       "      <td>27</td>\n",
       "    </tr>\n",
       "    <tr>\n",
       "      <th>28</th>\n",
       "      <td>28</td>\n",
       "      <td>TrialState.COMPLETE</td>\n",
       "      <td>0.503568</td>\n",
       "      <td>2019-09-29 17:57:33.260619</td>\n",
       "      <td>2019-09-29 17:57:36.050537</td>\n",
       "      <td>0.222717</td>\n",
       "      <td>2</td>\n",
       "      <td>5</td>\n",
       "      <td>Adam</td>\n",
       "      <td>28</td>\n",
       "    </tr>\n",
       "    <tr>\n",
       "      <th>29</th>\n",
       "      <td>29</td>\n",
       "      <td>TrialState.COMPLETE</td>\n",
       "      <td>0.531704</td>\n",
       "      <td>2019-09-29 17:57:36.068207</td>\n",
       "      <td>2019-09-29 17:57:38.667662</td>\n",
       "      <td>0.243673</td>\n",
       "      <td>1</td>\n",
       "      <td>4</td>\n",
       "      <td>Adam</td>\n",
       "      <td>29</td>\n",
       "    </tr>\n",
       "    <tr>\n",
       "      <th>30</th>\n",
       "      <td>30</td>\n",
       "      <td>TrialState.COMPLETE</td>\n",
       "      <td>0.544712</td>\n",
       "      <td>2019-09-29 17:57:38.688136</td>\n",
       "      <td>2019-09-29 17:57:41.887797</td>\n",
       "      <td>0.095754</td>\n",
       "      <td>2</td>\n",
       "      <td>5</td>\n",
       "      <td>Adam</td>\n",
       "      <td>30</td>\n",
       "    </tr>\n",
       "    <tr>\n",
       "      <th>31</th>\n",
       "      <td>31</td>\n",
       "      <td>TrialState.COMPLETE</td>\n",
       "      <td>0.452946</td>\n",
       "      <td>2019-09-29 17:57:41.907723</td>\n",
       "      <td>2019-09-29 17:57:45.462087</td>\n",
       "      <td>0.172454</td>\n",
       "      <td>2</td>\n",
       "      <td>5</td>\n",
       "      <td>Adam</td>\n",
       "      <td>31</td>\n",
       "    </tr>\n",
       "    <tr>\n",
       "      <th>32</th>\n",
       "      <td>32</td>\n",
       "      <td>TrialState.COMPLETE</td>\n",
       "      <td>0.493466</td>\n",
       "      <td>2019-09-29 17:57:45.480079</td>\n",
       "      <td>2019-09-29 17:57:48.635236</td>\n",
       "      <td>0.165068</td>\n",
       "      <td>2</td>\n",
       "      <td>5</td>\n",
       "      <td>Adam</td>\n",
       "      <td>32</td>\n",
       "    </tr>\n",
       "    <tr>\n",
       "      <th>33</th>\n",
       "      <td>33</td>\n",
       "      <td>TrialState.COMPLETE</td>\n",
       "      <td>0.496865</td>\n",
       "      <td>2019-09-29 17:57:48.654834</td>\n",
       "      <td>2019-09-29 17:57:51.898647</td>\n",
       "      <td>0.179761</td>\n",
       "      <td>2</td>\n",
       "      <td>5</td>\n",
       "      <td>Adam</td>\n",
       "      <td>33</td>\n",
       "    </tr>\n",
       "    <tr>\n",
       "      <th>34</th>\n",
       "      <td>34</td>\n",
       "      <td>TrialState.COMPLETE</td>\n",
       "      <td>0.517020</td>\n",
       "      <td>2019-09-29 17:57:51.920631</td>\n",
       "      <td>2019-09-29 17:57:55.412780</td>\n",
       "      <td>0.253618</td>\n",
       "      <td>2</td>\n",
       "      <td>5</td>\n",
       "      <td>Adam</td>\n",
       "      <td>34</td>\n",
       "    </tr>\n",
       "    <tr>\n",
       "      <th>35</th>\n",
       "      <td>35</td>\n",
       "      <td>TrialState.COMPLETE</td>\n",
       "      <td>0.490103</td>\n",
       "      <td>2019-09-29 17:57:55.440711</td>\n",
       "      <td>2019-09-29 17:57:58.986381</td>\n",
       "      <td>0.124760</td>\n",
       "      <td>2</td>\n",
       "      <td>5</td>\n",
       "      <td>Adam</td>\n",
       "      <td>35</td>\n",
       "    </tr>\n",
       "    <tr>\n",
       "      <th>36</th>\n",
       "      <td>36</td>\n",
       "      <td>TrialState.COMPLETE</td>\n",
       "      <td>0.540839</td>\n",
       "      <td>2019-09-29 17:57:59.005915</td>\n",
       "      <td>2019-09-29 17:58:02.176371</td>\n",
       "      <td>0.190300</td>\n",
       "      <td>1</td>\n",
       "      <td>3</td>\n",
       "      <td>Adam</td>\n",
       "      <td>36</td>\n",
       "    </tr>\n",
       "    <tr>\n",
       "      <th>37</th>\n",
       "      <td>37</td>\n",
       "      <td>TrialState.COMPLETE</td>\n",
       "      <td>0.540026</td>\n",
       "      <td>2019-09-29 17:58:02.193319</td>\n",
       "      <td>2019-09-29 17:58:06.151351</td>\n",
       "      <td>0.104423</td>\n",
       "      <td>2</td>\n",
       "      <td>5</td>\n",
       "      <td>Adam</td>\n",
       "      <td>37</td>\n",
       "    </tr>\n",
       "    <tr>\n",
       "      <th>38</th>\n",
       "      <td>38</td>\n",
       "      <td>TrialState.COMPLETE</td>\n",
       "      <td>0.514739</td>\n",
       "      <td>2019-09-29 17:58:06.170005</td>\n",
       "      <td>2019-09-29 17:58:09.437610</td>\n",
       "      <td>0.336503</td>\n",
       "      <td>1</td>\n",
       "      <td>4</td>\n",
       "      <td>Adam</td>\n",
       "      <td>38</td>\n",
       "    </tr>\n",
       "    <tr>\n",
       "      <th>39</th>\n",
       "      <td>39</td>\n",
       "      <td>TrialState.COMPLETE</td>\n",
       "      <td>0.519220</td>\n",
       "      <td>2019-09-29 17:58:09.457168</td>\n",
       "      <td>2019-09-29 17:58:13.440643</td>\n",
       "      <td>0.234183</td>\n",
       "      <td>3</td>\n",
       "      <td>5</td>\n",
       "      <td>RMSprop</td>\n",
       "      <td>39</td>\n",
       "    </tr>\n",
       "    <tr>\n",
       "      <th>40</th>\n",
       "      <td>40</td>\n",
       "      <td>TrialState.COMPLETE</td>\n",
       "      <td>0.521011</td>\n",
       "      <td>2019-09-29 17:58:13.459871</td>\n",
       "      <td>2019-09-29 17:58:16.873097</td>\n",
       "      <td>0.193055</td>\n",
       "      <td>1</td>\n",
       "      <td>5</td>\n",
       "      <td>Adam</td>\n",
       "      <td>40</td>\n",
       "    </tr>\n",
       "    <tr>\n",
       "      <th>41</th>\n",
       "      <td>41</td>\n",
       "      <td>TrialState.COMPLETE</td>\n",
       "      <td>0.523708</td>\n",
       "      <td>2019-09-29 17:58:16.893462</td>\n",
       "      <td>2019-09-29 17:58:20.726421</td>\n",
       "      <td>0.263013</td>\n",
       "      <td>2</td>\n",
       "      <td>5</td>\n",
       "      <td>Adam</td>\n",
       "      <td>41</td>\n",
       "    </tr>\n",
       "    <tr>\n",
       "      <th>42</th>\n",
       "      <td>42</td>\n",
       "      <td>TrialState.COMPLETE</td>\n",
       "      <td>0.503604</td>\n",
       "      <td>2019-09-29 17:58:20.746771</td>\n",
       "      <td>2019-09-29 17:58:24.554435</td>\n",
       "      <td>0.169160</td>\n",
       "      <td>2</td>\n",
       "      <td>5</td>\n",
       "      <td>Adam</td>\n",
       "      <td>42</td>\n",
       "    </tr>\n",
       "    <tr>\n",
       "      <th>43</th>\n",
       "      <td>43</td>\n",
       "      <td>TrialState.COMPLETE</td>\n",
       "      <td>0.475780</td>\n",
       "      <td>2019-09-29 17:58:24.575216</td>\n",
       "      <td>2019-09-29 17:58:28.574293</td>\n",
       "      <td>0.098990</td>\n",
       "      <td>2</td>\n",
       "      <td>5</td>\n",
       "      <td>Adam</td>\n",
       "      <td>43</td>\n",
       "    </tr>\n",
       "    <tr>\n",
       "      <th>44</th>\n",
       "      <td>44</td>\n",
       "      <td>TrialState.COMPLETE</td>\n",
       "      <td>0.507298</td>\n",
       "      <td>2019-09-29 17:58:28.599285</td>\n",
       "      <td>2019-09-29 17:58:32.602523</td>\n",
       "      <td>0.102010</td>\n",
       "      <td>2</td>\n",
       "      <td>5</td>\n",
       "      <td>Adam</td>\n",
       "      <td>44</td>\n",
       "    </tr>\n",
       "    <tr>\n",
       "      <th>45</th>\n",
       "      <td>45</td>\n",
       "      <td>TrialState.COMPLETE</td>\n",
       "      <td>0.598732</td>\n",
       "      <td>2019-09-29 17:58:32.624940</td>\n",
       "      <td>2019-09-29 17:58:36.915210</td>\n",
       "      <td>0.450064</td>\n",
       "      <td>2</td>\n",
       "      <td>5</td>\n",
       "      <td>RMSprop</td>\n",
       "      <td>45</td>\n",
       "    </tr>\n",
       "    <tr>\n",
       "      <th>46</th>\n",
       "      <td>46</td>\n",
       "      <td>TrialState.COMPLETE</td>\n",
       "      <td>0.593409</td>\n",
       "      <td>2019-09-29 17:58:36.939825</td>\n",
       "      <td>2019-09-29 17:58:41.163081</td>\n",
       "      <td>0.283801</td>\n",
       "      <td>2</td>\n",
       "      <td>3</td>\n",
       "      <td>Adam</td>\n",
       "      <td>46</td>\n",
       "    </tr>\n",
       "    <tr>\n",
       "      <th>47</th>\n",
       "      <td>47</td>\n",
       "      <td>TrialState.COMPLETE</td>\n",
       "      <td>0.536662</td>\n",
       "      <td>2019-09-29 17:58:41.183100</td>\n",
       "      <td>2019-09-29 17:58:45.690669</td>\n",
       "      <td>0.383672</td>\n",
       "      <td>2</td>\n",
       "      <td>5</td>\n",
       "      <td>RMSprop</td>\n",
       "      <td>47</td>\n",
       "    </tr>\n",
       "    <tr>\n",
       "      <th>48</th>\n",
       "      <td>48</td>\n",
       "      <td>TrialState.COMPLETE</td>\n",
       "      <td>0.508286</td>\n",
       "      <td>2019-09-29 17:58:45.716360</td>\n",
       "      <td>2019-09-29 17:58:50.348642</td>\n",
       "      <td>0.211197</td>\n",
       "      <td>3</td>\n",
       "      <td>5</td>\n",
       "      <td>Adam</td>\n",
       "      <td>48</td>\n",
       "    </tr>\n",
       "    <tr>\n",
       "      <th>49</th>\n",
       "      <td>49</td>\n",
       "      <td>TrialState.COMPLETE</td>\n",
       "      <td>0.527991</td>\n",
       "      <td>2019-09-29 17:58:50.368057</td>\n",
       "      <td>2019-09-29 17:58:54.999604</td>\n",
       "      <td>0.315384</td>\n",
       "      <td>2</td>\n",
       "      <td>5</td>\n",
       "      <td>RMSprop</td>\n",
       "      <td>49</td>\n",
       "    </tr>\n",
       "    <tr>\n",
       "      <th>50</th>\n",
       "      <td>50</td>\n",
       "      <td>TrialState.COMPLETE</td>\n",
       "      <td>0.568903</td>\n",
       "      <td>2019-09-29 17:58:55.023064</td>\n",
       "      <td>2019-09-29 17:58:59.641109</td>\n",
       "      <td>0.154767</td>\n",
       "      <td>2</td>\n",
       "      <td>4</td>\n",
       "      <td>Adam</td>\n",
       "      <td>50</td>\n",
       "    </tr>\n",
       "    <tr>\n",
       "      <th>51</th>\n",
       "      <td>51</td>\n",
       "      <td>TrialState.COMPLETE</td>\n",
       "      <td>0.504599</td>\n",
       "      <td>2019-09-29 17:58:59.663790</td>\n",
       "      <td>2019-09-29 17:59:04.313894</td>\n",
       "      <td>0.083410</td>\n",
       "      <td>2</td>\n",
       "      <td>5</td>\n",
       "      <td>Adam</td>\n",
       "      <td>51</td>\n",
       "    </tr>\n",
       "    <tr>\n",
       "      <th>52</th>\n",
       "      <td>52</td>\n",
       "      <td>TrialState.COMPLETE</td>\n",
       "      <td>0.549782</td>\n",
       "      <td>2019-09-29 17:59:04.335407</td>\n",
       "      <td>2019-09-29 17:59:09.049099</td>\n",
       "      <td>0.116135</td>\n",
       "      <td>2</td>\n",
       "      <td>5</td>\n",
       "      <td>Adam</td>\n",
       "      <td>52</td>\n",
       "    </tr>\n",
       "    <tr>\n",
       "      <th>53</th>\n",
       "      <td>53</td>\n",
       "      <td>TrialState.COMPLETE</td>\n",
       "      <td>0.557063</td>\n",
       "      <td>2019-09-29 17:59:09.071389</td>\n",
       "      <td>2019-09-29 17:59:14.005884</td>\n",
       "      <td>0.030181</td>\n",
       "      <td>2</td>\n",
       "      <td>5</td>\n",
       "      <td>Adam</td>\n",
       "      <td>53</td>\n",
       "    </tr>\n",
       "    <tr>\n",
       "      <th>54</th>\n",
       "      <td>54</td>\n",
       "      <td>TrialState.COMPLETE</td>\n",
       "      <td>0.459231</td>\n",
       "      <td>2019-09-29 17:59:14.026678</td>\n",
       "      <td>2019-09-29 17:59:19.548847</td>\n",
       "      <td>0.053487</td>\n",
       "      <td>2</td>\n",
       "      <td>5</td>\n",
       "      <td>Adam</td>\n",
       "      <td>54</td>\n",
       "    </tr>\n",
       "    <tr>\n",
       "      <th>55</th>\n",
       "      <td>55</td>\n",
       "      <td>TrialState.COMPLETE</td>\n",
       "      <td>0.520507</td>\n",
       "      <td>2019-09-29 17:59:19.571828</td>\n",
       "      <td>2019-09-29 17:59:25.177556</td>\n",
       "      <td>0.499680</td>\n",
       "      <td>2</td>\n",
       "      <td>5</td>\n",
       "      <td>RMSprop</td>\n",
       "      <td>55</td>\n",
       "    </tr>\n",
       "    <tr>\n",
       "      <th>56</th>\n",
       "      <td>56</td>\n",
       "      <td>TrialState.COMPLETE</td>\n",
       "      <td>0.474572</td>\n",
       "      <td>2019-09-29 17:59:25.206166</td>\n",
       "      <td>2019-09-29 17:59:30.337505</td>\n",
       "      <td>0.081113</td>\n",
       "      <td>2</td>\n",
       "      <td>5</td>\n",
       "      <td>Adam</td>\n",
       "      <td>56</td>\n",
       "    </tr>\n",
       "    <tr>\n",
       "      <th>57</th>\n",
       "      <td>57</td>\n",
       "      <td>TrialState.COMPLETE</td>\n",
       "      <td>0.495598</td>\n",
       "      <td>2019-09-29 17:59:30.358609</td>\n",
       "      <td>2019-09-29 17:59:35.587059</td>\n",
       "      <td>0.078492</td>\n",
       "      <td>2</td>\n",
       "      <td>5</td>\n",
       "      <td>Adam</td>\n",
       "      <td>57</td>\n",
       "    </tr>\n",
       "    <tr>\n",
       "      <th>58</th>\n",
       "      <td>58</td>\n",
       "      <td>TrialState.COMPLETE</td>\n",
       "      <td>0.582212</td>\n",
       "      <td>2019-09-29 17:59:35.613014</td>\n",
       "      <td>2019-09-29 17:59:40.790619</td>\n",
       "      <td>0.014262</td>\n",
       "      <td>2</td>\n",
       "      <td>5</td>\n",
       "      <td>Adam</td>\n",
       "      <td>58</td>\n",
       "    </tr>\n",
       "    <tr>\n",
       "      <th>59</th>\n",
       "      <td>59</td>\n",
       "      <td>TrialState.COMPLETE</td>\n",
       "      <td>0.591833</td>\n",
       "      <td>2019-09-29 17:59:40.813140</td>\n",
       "      <td>2019-09-29 17:59:46.201483</td>\n",
       "      <td>0.047255</td>\n",
       "      <td>2</td>\n",
       "      <td>5</td>\n",
       "      <td>RMSprop</td>\n",
       "      <td>59</td>\n",
       "    </tr>\n",
       "  </tbody>\n",
       "</table>\n",
       "</div>"
      ],
      "text/plain": [
       "   number                state     value             datetime_start  \\\n",
       "                                                                      \n",
       "0       0  TrialState.COMPLETE  0.584088 2019-09-29 17:52:55.724960   \n",
       "1       1  TrialState.COMPLETE  0.469531 2019-09-29 17:52:56.860196   \n",
       "2       2  TrialState.COMPLETE  0.527052 2019-09-29 17:52:58.349499   \n",
       "3       3  TrialState.COMPLETE  0.582462 2019-09-29 17:53:00.227904   \n",
       "4       4  TrialState.COMPLETE  0.597216 2019-09-29 17:53:01.583701   \n",
       "5       5  TrialState.COMPLETE  0.535746 2019-09-29 17:53:02.959307   \n",
       "6       6  TrialState.COMPLETE  0.534742 2019-09-29 17:53:04.424656   \n",
       "7       7  TrialState.COMPLETE  0.632229 2019-09-29 17:53:05.880926   \n",
       "8       8  TrialState.COMPLETE  0.523731 2019-09-29 17:53:07.746367   \n",
       "9       9  TrialState.COMPLETE  0.523120 2019-09-29 17:53:09.594656   \n",
       "10     10  TrialState.COMPLETE  0.558494 2019-09-29 17:56:53.559311   \n",
       "11     11  TrialState.COMPLETE  0.510326 2019-09-29 17:56:55.049237   \n",
       "12     12  TrialState.COMPLETE  0.581063 2019-09-29 17:56:56.963684   \n",
       "13     13  TrialState.COMPLETE  0.631989 2019-09-29 17:56:59.022042   \n",
       "14     14  TrialState.COMPLETE  0.518718 2019-09-29 17:57:00.765432   \n",
       "15     15  TrialState.COMPLETE  0.611784 2019-09-29 17:57:03.006980   \n",
       "16     16  TrialState.COMPLETE  0.586585 2019-09-29 17:57:04.936181   \n",
       "17     17  TrialState.COMPLETE  0.504996 2019-09-29 17:57:07.187342   \n",
       "18     18  TrialState.COMPLETE  0.489222 2019-09-29 17:57:09.161559   \n",
       "19     19  TrialState.COMPLETE  0.529187 2019-09-29 17:57:11.234281   \n",
       "20     20  TrialState.COMPLETE  0.515134 2019-09-29 17:57:13.336098   \n",
       "21     21  TrialState.COMPLETE  0.540927 2019-09-29 17:57:15.535251   \n",
       "22     22  TrialState.COMPLETE  0.482138 2019-09-29 17:57:17.850200   \n",
       "23     23  TrialState.COMPLETE  0.499502 2019-09-29 17:57:20.214888   \n",
       "24     24  TrialState.COMPLETE  0.525741 2019-09-29 17:57:22.708040   \n",
       "25     25  TrialState.COMPLETE  0.463600 2019-09-29 17:57:25.180161   \n",
       "26     26  TrialState.COMPLETE  0.512739 2019-09-29 17:57:27.807793   \n",
       "27     27  TrialState.COMPLETE  0.471170 2019-09-29 17:57:30.448324   \n",
       "28     28  TrialState.COMPLETE  0.503568 2019-09-29 17:57:33.260619   \n",
       "29     29  TrialState.COMPLETE  0.531704 2019-09-29 17:57:36.068207   \n",
       "30     30  TrialState.COMPLETE  0.544712 2019-09-29 17:57:38.688136   \n",
       "31     31  TrialState.COMPLETE  0.452946 2019-09-29 17:57:41.907723   \n",
       "32     32  TrialState.COMPLETE  0.493466 2019-09-29 17:57:45.480079   \n",
       "33     33  TrialState.COMPLETE  0.496865 2019-09-29 17:57:48.654834   \n",
       "34     34  TrialState.COMPLETE  0.517020 2019-09-29 17:57:51.920631   \n",
       "35     35  TrialState.COMPLETE  0.490103 2019-09-29 17:57:55.440711   \n",
       "36     36  TrialState.COMPLETE  0.540839 2019-09-29 17:57:59.005915   \n",
       "37     37  TrialState.COMPLETE  0.540026 2019-09-29 17:58:02.193319   \n",
       "38     38  TrialState.COMPLETE  0.514739 2019-09-29 17:58:06.170005   \n",
       "39     39  TrialState.COMPLETE  0.519220 2019-09-29 17:58:09.457168   \n",
       "40     40  TrialState.COMPLETE  0.521011 2019-09-29 17:58:13.459871   \n",
       "41     41  TrialState.COMPLETE  0.523708 2019-09-29 17:58:16.893462   \n",
       "42     42  TrialState.COMPLETE  0.503604 2019-09-29 17:58:20.746771   \n",
       "43     43  TrialState.COMPLETE  0.475780 2019-09-29 17:58:24.575216   \n",
       "44     44  TrialState.COMPLETE  0.507298 2019-09-29 17:58:28.599285   \n",
       "45     45  TrialState.COMPLETE  0.598732 2019-09-29 17:58:32.624940   \n",
       "46     46  TrialState.COMPLETE  0.593409 2019-09-29 17:58:36.939825   \n",
       "47     47  TrialState.COMPLETE  0.536662 2019-09-29 17:58:41.183100   \n",
       "48     48  TrialState.COMPLETE  0.508286 2019-09-29 17:58:45.716360   \n",
       "49     49  TrialState.COMPLETE  0.527991 2019-09-29 17:58:50.368057   \n",
       "50     50  TrialState.COMPLETE  0.568903 2019-09-29 17:58:55.023064   \n",
       "51     51  TrialState.COMPLETE  0.504599 2019-09-29 17:58:59.663790   \n",
       "52     52  TrialState.COMPLETE  0.549782 2019-09-29 17:59:04.335407   \n",
       "53     53  TrialState.COMPLETE  0.557063 2019-09-29 17:59:09.071389   \n",
       "54     54  TrialState.COMPLETE  0.459231 2019-09-29 17:59:14.026678   \n",
       "55     55  TrialState.COMPLETE  0.520507 2019-09-29 17:59:19.571828   \n",
       "56     56  TrialState.COMPLETE  0.474572 2019-09-29 17:59:25.206166   \n",
       "57     57  TrialState.COMPLETE  0.495598 2019-09-29 17:59:30.358609   \n",
       "58     58  TrialState.COMPLETE  0.582212 2019-09-29 17:59:35.613014   \n",
       "59     59  TrialState.COMPLETE  0.591833 2019-09-29 17:59:40.813140   \n",
       "\n",
       "            datetime_complete       params                             \\\n",
       "                              dropout_rate n_layers n_units optimizer   \n",
       "0  2019-09-29 17:52:56.846845     0.102112        1       3      Adam   \n",
       "1  2019-09-29 17:52:58.333973     0.403568        2       5   RMSprop   \n",
       "2  2019-09-29 17:53:00.214348     0.188369        3       4   RMSprop   \n",
       "3  2019-09-29 17:53:01.569645     0.205127        1       5   RMSprop   \n",
       "4  2019-09-29 17:53:02.944840     0.357806        1       3   RMSprop   \n",
       "5  2019-09-29 17:53:04.409663     0.420148        1       5   RMSprop   \n",
       "6  2019-09-29 17:53:05.866837     0.392317        1       4      Adam   \n",
       "7  2019-09-29 17:53:07.729753     0.299196        2       3   RMSprop   \n",
       "8  2019-09-29 17:53:09.578452     0.408872        1       4   RMSprop   \n",
       "9  2019-09-29 17:53:12.153645     0.304206        3       5   RMSprop   \n",
       "10 2019-09-29 17:56:55.035673     0.464272        2       5      Adam   \n",
       "11 2019-09-29 17:56:56.948261     0.296677        3       5   RMSprop   \n",
       "12 2019-09-29 17:56:59.006880     0.497227        3       5   RMSprop   \n",
       "13 2019-09-29 17:57:00.750605     0.274618        2       5   RMSprop   \n",
       "14 2019-09-29 17:57:02.990724     0.001315        3       4   RMSprop   \n",
       "15 2019-09-29 17:57:04.919520     0.341965        2       5   RMSprop   \n",
       "16 2019-09-29 17:57:07.171073     0.211274        3       4   RMSprop   \n",
       "17 2019-09-29 17:57:09.146533     0.133644        2       5      Adam   \n",
       "18 2019-09-29 17:57:11.217835     0.066461        2       5      Adam   \n",
       "19 2019-09-29 17:57:13.316862     0.019623        2       4      Adam   \n",
       "20 2019-09-29 17:57:15.518694     0.070588        2       5      Adam   \n",
       "21 2019-09-29 17:57:17.832979     0.137835        2       5      Adam   \n",
       "22 2019-09-29 17:57:20.197553     0.051503        2       5      Adam   \n",
       "23 2019-09-29 17:57:22.691521     0.056271        2       5      Adam   \n",
       "24 2019-09-29 17:57:25.163836     0.034634        2       5      Adam   \n",
       "25 2019-09-29 17:57:27.790583     0.144224        2       5      Adam   \n",
       "26 2019-09-29 17:57:30.430818     0.149775        2       4      Adam   \n",
       "27 2019-09-29 17:57:33.239900     0.242222        2       5      Adam   \n",
       "28 2019-09-29 17:57:36.050537     0.222717        2       5      Adam   \n",
       "29 2019-09-29 17:57:38.667662     0.243673        1       4      Adam   \n",
       "30 2019-09-29 17:57:41.887797     0.095754        2       5      Adam   \n",
       "31 2019-09-29 17:57:45.462087     0.172454        2       5      Adam   \n",
       "32 2019-09-29 17:57:48.635236     0.165068        2       5      Adam   \n",
       "33 2019-09-29 17:57:51.898647     0.179761        2       5      Adam   \n",
       "34 2019-09-29 17:57:55.412780     0.253618        2       5      Adam   \n",
       "35 2019-09-29 17:57:58.986381     0.124760        2       5      Adam   \n",
       "36 2019-09-29 17:58:02.176371     0.190300        1       3      Adam   \n",
       "37 2019-09-29 17:58:06.151351     0.104423        2       5      Adam   \n",
       "38 2019-09-29 17:58:09.437610     0.336503        1       4      Adam   \n",
       "39 2019-09-29 17:58:13.440643     0.234183        3       5   RMSprop   \n",
       "40 2019-09-29 17:58:16.873097     0.193055        1       5      Adam   \n",
       "41 2019-09-29 17:58:20.726421     0.263013        2       5      Adam   \n",
       "42 2019-09-29 17:58:24.554435     0.169160        2       5      Adam   \n",
       "43 2019-09-29 17:58:28.574293     0.098990        2       5      Adam   \n",
       "44 2019-09-29 17:58:32.602523     0.102010        2       5      Adam   \n",
       "45 2019-09-29 17:58:36.915210     0.450064        2       5   RMSprop   \n",
       "46 2019-09-29 17:58:41.163081     0.283801        2       3      Adam   \n",
       "47 2019-09-29 17:58:45.690669     0.383672        2       5   RMSprop   \n",
       "48 2019-09-29 17:58:50.348642     0.211197        3       5      Adam   \n",
       "49 2019-09-29 17:58:54.999604     0.315384        2       5   RMSprop   \n",
       "50 2019-09-29 17:58:59.641109     0.154767        2       4      Adam   \n",
       "51 2019-09-29 17:59:04.313894     0.083410        2       5      Adam   \n",
       "52 2019-09-29 17:59:09.049099     0.116135        2       5      Adam   \n",
       "53 2019-09-29 17:59:14.005884     0.030181        2       5      Adam   \n",
       "54 2019-09-29 17:59:19.548847     0.053487        2       5      Adam   \n",
       "55 2019-09-29 17:59:25.177556     0.499680        2       5   RMSprop   \n",
       "56 2019-09-29 17:59:30.337505     0.081113        2       5      Adam   \n",
       "57 2019-09-29 17:59:35.587059     0.078492        2       5      Adam   \n",
       "58 2019-09-29 17:59:40.790619     0.014262        2       5      Adam   \n",
       "59 2019-09-29 17:59:46.201483     0.047255        2       5   RMSprop   \n",
       "\n",
       "   system_attrs  \n",
       "        _number  \n",
       "0             0  \n",
       "1             1  \n",
       "2             2  \n",
       "3             3  \n",
       "4             4  \n",
       "5             5  \n",
       "6             6  \n",
       "7             7  \n",
       "8             8  \n",
       "9             9  \n",
       "10           10  \n",
       "11           11  \n",
       "12           12  \n",
       "13           13  \n",
       "14           14  \n",
       "15           15  \n",
       "16           16  \n",
       "17           17  \n",
       "18           18  \n",
       "19           19  \n",
       "20           20  \n",
       "21           21  \n",
       "22           22  \n",
       "23           23  \n",
       "24           24  \n",
       "25           25  \n",
       "26           26  \n",
       "27           27  \n",
       "28           28  \n",
       "29           29  \n",
       "30           30  \n",
       "31           31  \n",
       "32           32  \n",
       "33           33  \n",
       "34           34  \n",
       "35           35  \n",
       "36           36  \n",
       "37           37  \n",
       "38           38  \n",
       "39           39  \n",
       "40           40  \n",
       "41           41  \n",
       "42           42  \n",
       "43           43  \n",
       "44           44  \n",
       "45           45  \n",
       "46           46  \n",
       "47           47  \n",
       "48           48  \n",
       "49           49  \n",
       "50           50  \n",
       "51           51  \n",
       "52           52  \n",
       "53           53  \n",
       "54           54  \n",
       "55           55  \n",
       "56           56  \n",
       "57           57  \n",
       "58           58  \n",
       "59           59  "
      ]
     },
     "execution_count": 4,
     "metadata": {},
     "output_type": "execute_result"
    }
   ],
   "source": [
    "study.trials_dataframe()"
   ]
  },
  {
   "cell_type": "code",
   "execution_count": 7,
   "metadata": {},
   "outputs": [
    {
     "data": {
      "text/html": [
       "        <script type=\"text/javascript\">\n",
       "        window.PlotlyConfig = {MathJaxConfig: 'local'};\n",
       "        if (window.MathJax) {MathJax.Hub.Config({SVG: {font: \"STIX-Web\"}});}\n",
       "        if (typeof require !== 'undefined') {\n",
       "        require.undef(\"plotly\");\n",
       "        requirejs.config({\n",
       "            paths: {\n",
       "                'plotly': ['https://cdn.plot.ly/plotly-latest.min']\n",
       "            }\n",
       "        });\n",
       "        require(['plotly'], function(Plotly) {\n",
       "            window._Plotly = Plotly;\n",
       "        });\n",
       "        }\n",
       "        </script>\n",
       "        "
      ]
     },
     "metadata": {},
     "output_type": "display_data"
    },
    {
     "data": {
      "application/vnd.plotly.v1+json": {
       "config": {
        "linkText": "Export to plot.ly",
        "plotlyServerURL": "https://plot.ly",
        "showLink": false
       },
       "data": [],
       "layout": {
        "showlegend": false,
        "template": {
         "data": {
          "bar": [
           {
            "error_x": {
             "color": "#2a3f5f"
            },
            "error_y": {
             "color": "#2a3f5f"
            },
            "marker": {
             "line": {
              "color": "#E5ECF6",
              "width": 0.5
             }
            },
            "type": "bar"
           }
          ],
          "barpolar": [
           {
            "marker": {
             "line": {
              "color": "#E5ECF6",
              "width": 0.5
             }
            },
            "type": "barpolar"
           }
          ],
          "carpet": [
           {
            "aaxis": {
             "endlinecolor": "#2a3f5f",
             "gridcolor": "white",
             "linecolor": "white",
             "minorgridcolor": "white",
             "startlinecolor": "#2a3f5f"
            },
            "baxis": {
             "endlinecolor": "#2a3f5f",
             "gridcolor": "white",
             "linecolor": "white",
             "minorgridcolor": "white",
             "startlinecolor": "#2a3f5f"
            },
            "type": "carpet"
           }
          ],
          "choropleth": [
           {
            "colorbar": {
             "outlinewidth": 0,
             "ticks": ""
            },
            "type": "choropleth"
           }
          ],
          "contour": [
           {
            "colorbar": {
             "outlinewidth": 0,
             "ticks": ""
            },
            "colorscale": [
             [
              0,
              "#0d0887"
             ],
             [
              0.1111111111111111,
              "#46039f"
             ],
             [
              0.2222222222222222,
              "#7201a8"
             ],
             [
              0.3333333333333333,
              "#9c179e"
             ],
             [
              0.4444444444444444,
              "#bd3786"
             ],
             [
              0.5555555555555556,
              "#d8576b"
             ],
             [
              0.6666666666666666,
              "#ed7953"
             ],
             [
              0.7777777777777778,
              "#fb9f3a"
             ],
             [
              0.8888888888888888,
              "#fdca26"
             ],
             [
              1,
              "#f0f921"
             ]
            ],
            "type": "contour"
           }
          ],
          "contourcarpet": [
           {
            "colorbar": {
             "outlinewidth": 0,
             "ticks": ""
            },
            "type": "contourcarpet"
           }
          ],
          "heatmap": [
           {
            "colorbar": {
             "outlinewidth": 0,
             "ticks": ""
            },
            "colorscale": [
             [
              0,
              "#0d0887"
             ],
             [
              0.1111111111111111,
              "#46039f"
             ],
             [
              0.2222222222222222,
              "#7201a8"
             ],
             [
              0.3333333333333333,
              "#9c179e"
             ],
             [
              0.4444444444444444,
              "#bd3786"
             ],
             [
              0.5555555555555556,
              "#d8576b"
             ],
             [
              0.6666666666666666,
              "#ed7953"
             ],
             [
              0.7777777777777778,
              "#fb9f3a"
             ],
             [
              0.8888888888888888,
              "#fdca26"
             ],
             [
              1,
              "#f0f921"
             ]
            ],
            "type": "heatmap"
           }
          ],
          "heatmapgl": [
           {
            "colorbar": {
             "outlinewidth": 0,
             "ticks": ""
            },
            "colorscale": [
             [
              0,
              "#0d0887"
             ],
             [
              0.1111111111111111,
              "#46039f"
             ],
             [
              0.2222222222222222,
              "#7201a8"
             ],
             [
              0.3333333333333333,
              "#9c179e"
             ],
             [
              0.4444444444444444,
              "#bd3786"
             ],
             [
              0.5555555555555556,
              "#d8576b"
             ],
             [
              0.6666666666666666,
              "#ed7953"
             ],
             [
              0.7777777777777778,
              "#fb9f3a"
             ],
             [
              0.8888888888888888,
              "#fdca26"
             ],
             [
              1,
              "#f0f921"
             ]
            ],
            "type": "heatmapgl"
           }
          ],
          "histogram": [
           {
            "marker": {
             "colorbar": {
              "outlinewidth": 0,
              "ticks": ""
             }
            },
            "type": "histogram"
           }
          ],
          "histogram2d": [
           {
            "colorbar": {
             "outlinewidth": 0,
             "ticks": ""
            },
            "colorscale": [
             [
              0,
              "#0d0887"
             ],
             [
              0.1111111111111111,
              "#46039f"
             ],
             [
              0.2222222222222222,
              "#7201a8"
             ],
             [
              0.3333333333333333,
              "#9c179e"
             ],
             [
              0.4444444444444444,
              "#bd3786"
             ],
             [
              0.5555555555555556,
              "#d8576b"
             ],
             [
              0.6666666666666666,
              "#ed7953"
             ],
             [
              0.7777777777777778,
              "#fb9f3a"
             ],
             [
              0.8888888888888888,
              "#fdca26"
             ],
             [
              1,
              "#f0f921"
             ]
            ],
            "type": "histogram2d"
           }
          ],
          "histogram2dcontour": [
           {
            "colorbar": {
             "outlinewidth": 0,
             "ticks": ""
            },
            "colorscale": [
             [
              0,
              "#0d0887"
             ],
             [
              0.1111111111111111,
              "#46039f"
             ],
             [
              0.2222222222222222,
              "#7201a8"
             ],
             [
              0.3333333333333333,
              "#9c179e"
             ],
             [
              0.4444444444444444,
              "#bd3786"
             ],
             [
              0.5555555555555556,
              "#d8576b"
             ],
             [
              0.6666666666666666,
              "#ed7953"
             ],
             [
              0.7777777777777778,
              "#fb9f3a"
             ],
             [
              0.8888888888888888,
              "#fdca26"
             ],
             [
              1,
              "#f0f921"
             ]
            ],
            "type": "histogram2dcontour"
           }
          ],
          "mesh3d": [
           {
            "colorbar": {
             "outlinewidth": 0,
             "ticks": ""
            },
            "type": "mesh3d"
           }
          ],
          "parcoords": [
           {
            "line": {
             "colorbar": {
              "outlinewidth": 0,
              "ticks": ""
             }
            },
            "type": "parcoords"
           }
          ],
          "scatter": [
           {
            "marker": {
             "colorbar": {
              "outlinewidth": 0,
              "ticks": ""
             }
            },
            "type": "scatter"
           }
          ],
          "scatter3d": [
           {
            "line": {
             "colorbar": {
              "outlinewidth": 0,
              "ticks": ""
             }
            },
            "marker": {
             "colorbar": {
              "outlinewidth": 0,
              "ticks": ""
             }
            },
            "type": "scatter3d"
           }
          ],
          "scattercarpet": [
           {
            "marker": {
             "colorbar": {
              "outlinewidth": 0,
              "ticks": ""
             }
            },
            "type": "scattercarpet"
           }
          ],
          "scattergeo": [
           {
            "marker": {
             "colorbar": {
              "outlinewidth": 0,
              "ticks": ""
             }
            },
            "type": "scattergeo"
           }
          ],
          "scattergl": [
           {
            "marker": {
             "colorbar": {
              "outlinewidth": 0,
              "ticks": ""
             }
            },
            "type": "scattergl"
           }
          ],
          "scattermapbox": [
           {
            "marker": {
             "colorbar": {
              "outlinewidth": 0,
              "ticks": ""
             }
            },
            "type": "scattermapbox"
           }
          ],
          "scatterpolar": [
           {
            "marker": {
             "colorbar": {
              "outlinewidth": 0,
              "ticks": ""
             }
            },
            "type": "scatterpolar"
           }
          ],
          "scatterpolargl": [
           {
            "marker": {
             "colorbar": {
              "outlinewidth": 0,
              "ticks": ""
             }
            },
            "type": "scatterpolargl"
           }
          ],
          "scatterternary": [
           {
            "marker": {
             "colorbar": {
              "outlinewidth": 0,
              "ticks": ""
             }
            },
            "type": "scatterternary"
           }
          ],
          "surface": [
           {
            "colorbar": {
             "outlinewidth": 0,
             "ticks": ""
            },
            "colorscale": [
             [
              0,
              "#0d0887"
             ],
             [
              0.1111111111111111,
              "#46039f"
             ],
             [
              0.2222222222222222,
              "#7201a8"
             ],
             [
              0.3333333333333333,
              "#9c179e"
             ],
             [
              0.4444444444444444,
              "#bd3786"
             ],
             [
              0.5555555555555556,
              "#d8576b"
             ],
             [
              0.6666666666666666,
              "#ed7953"
             ],
             [
              0.7777777777777778,
              "#fb9f3a"
             ],
             [
              0.8888888888888888,
              "#fdca26"
             ],
             [
              1,
              "#f0f921"
             ]
            ],
            "type": "surface"
           }
          ],
          "table": [
           {
            "cells": {
             "fill": {
              "color": "#EBF0F8"
             },
             "line": {
              "color": "white"
             }
            },
            "header": {
             "fill": {
              "color": "#C8D4E3"
             },
             "line": {
              "color": "white"
             }
            },
            "type": "table"
           }
          ]
         },
         "layout": {
          "annotationdefaults": {
           "arrowcolor": "#2a3f5f",
           "arrowhead": 0,
           "arrowwidth": 1
          },
          "colorscale": {
           "diverging": [
            [
             0,
             "#8e0152"
            ],
            [
             0.1,
             "#c51b7d"
            ],
            [
             0.2,
             "#de77ae"
            ],
            [
             0.3,
             "#f1b6da"
            ],
            [
             0.4,
             "#fde0ef"
            ],
            [
             0.5,
             "#f7f7f7"
            ],
            [
             0.6,
             "#e6f5d0"
            ],
            [
             0.7,
             "#b8e186"
            ],
            [
             0.8,
             "#7fbc41"
            ],
            [
             0.9,
             "#4d9221"
            ],
            [
             1,
             "#276419"
            ]
           ],
           "sequential": [
            [
             0,
             "#0d0887"
            ],
            [
             0.1111111111111111,
             "#46039f"
            ],
            [
             0.2222222222222222,
             "#7201a8"
            ],
            [
             0.3333333333333333,
             "#9c179e"
            ],
            [
             0.4444444444444444,
             "#bd3786"
            ],
            [
             0.5555555555555556,
             "#d8576b"
            ],
            [
             0.6666666666666666,
             "#ed7953"
            ],
            [
             0.7777777777777778,
             "#fb9f3a"
            ],
            [
             0.8888888888888888,
             "#fdca26"
            ],
            [
             1,
             "#f0f921"
            ]
           ],
           "sequentialminus": [
            [
             0,
             "#0d0887"
            ],
            [
             0.1111111111111111,
             "#46039f"
            ],
            [
             0.2222222222222222,
             "#7201a8"
            ],
            [
             0.3333333333333333,
             "#9c179e"
            ],
            [
             0.4444444444444444,
             "#bd3786"
            ],
            [
             0.5555555555555556,
             "#d8576b"
            ],
            [
             0.6666666666666666,
             "#ed7953"
            ],
            [
             0.7777777777777778,
             "#fb9f3a"
            ],
            [
             0.8888888888888888,
             "#fdca26"
            ],
            [
             1,
             "#f0f921"
            ]
           ]
          },
          "colorway": [
           "#636efa",
           "#EF553B",
           "#00cc96",
           "#ab63fa",
           "#FFA15A",
           "#19d3f3",
           "#FF6692",
           "#B6E880",
           "#FF97FF",
           "#FECB52"
          ],
          "font": {
           "color": "#2a3f5f"
          },
          "geo": {
           "bgcolor": "white",
           "lakecolor": "white",
           "landcolor": "#E5ECF6",
           "showlakes": true,
           "showland": true,
           "subunitcolor": "white"
          },
          "hoverlabel": {
           "align": "left"
          },
          "hovermode": "closest",
          "mapbox": {
           "style": "light"
          },
          "paper_bgcolor": "white",
          "plot_bgcolor": "#E5ECF6",
          "polar": {
           "angularaxis": {
            "gridcolor": "white",
            "linecolor": "white",
            "ticks": ""
           },
           "bgcolor": "#E5ECF6",
           "radialaxis": {
            "gridcolor": "white",
            "linecolor": "white",
            "ticks": ""
           }
          },
          "scene": {
           "xaxis": {
            "backgroundcolor": "#E5ECF6",
            "gridcolor": "white",
            "gridwidth": 2,
            "linecolor": "white",
            "showbackground": true,
            "ticks": "",
            "zerolinecolor": "white"
           },
           "yaxis": {
            "backgroundcolor": "#E5ECF6",
            "gridcolor": "white",
            "gridwidth": 2,
            "linecolor": "white",
            "showbackground": true,
            "ticks": "",
            "zerolinecolor": "white"
           },
           "zaxis": {
            "backgroundcolor": "#E5ECF6",
            "gridcolor": "white",
            "gridwidth": 2,
            "linecolor": "white",
            "showbackground": true,
            "ticks": "",
            "zerolinecolor": "white"
           }
          },
          "shapedefaults": {
           "line": {
            "color": "#2a3f5f"
           }
          },
          "ternary": {
           "aaxis": {
            "gridcolor": "white",
            "linecolor": "white",
            "ticks": ""
           },
           "baxis": {
            "gridcolor": "white",
            "linecolor": "white",
            "ticks": ""
           },
           "bgcolor": "#E5ECF6",
           "caxis": {
            "gridcolor": "white",
            "linecolor": "white",
            "ticks": ""
           }
          },
          "title": {
           "x": 0.05
          },
          "xaxis": {
           "automargin": true,
           "gridcolor": "white",
           "linecolor": "white",
           "ticks": "",
           "zerolinecolor": "white",
           "zerolinewidth": 2
          },
          "yaxis": {
           "automargin": true,
           "gridcolor": "white",
           "linecolor": "white",
           "ticks": "",
           "zerolinecolor": "white",
           "zerolinewidth": 2
          }
         }
        }
       }
      },
      "text/html": [
       "<div>\n",
       "        \n",
       "        \n",
       "            <div id=\"716e58ea-0465-41f3-9dbb-b2938710be7c\" class=\"plotly-graph-div\" style=\"height:525px; width:100%;\"></div>\n",
       "            <script type=\"text/javascript\">\n",
       "                require([\"plotly\"], function(Plotly) {\n",
       "                    window.PLOTLYENV=window.PLOTLYENV || {};\n",
       "                    \n",
       "                if (document.getElementById(\"716e58ea-0465-41f3-9dbb-b2938710be7c\")) {\n",
       "                    Plotly.newPlot(\n",
       "                        '716e58ea-0465-41f3-9dbb-b2938710be7c',\n",
       "                        [],\n",
       "                        {\"showlegend\": false, \"template\": {\"data\": {\"bar\": [{\"error_x\": {\"color\": \"#2a3f5f\"}, \"error_y\": {\"color\": \"#2a3f5f\"}, \"marker\": {\"line\": {\"color\": \"#E5ECF6\", \"width\": 0.5}}, \"type\": \"bar\"}], \"barpolar\": [{\"marker\": {\"line\": {\"color\": \"#E5ECF6\", \"width\": 0.5}}, \"type\": \"barpolar\"}], \"carpet\": [{\"aaxis\": {\"endlinecolor\": \"#2a3f5f\", \"gridcolor\": \"white\", \"linecolor\": \"white\", \"minorgridcolor\": \"white\", \"startlinecolor\": \"#2a3f5f\"}, \"baxis\": {\"endlinecolor\": \"#2a3f5f\", \"gridcolor\": \"white\", \"linecolor\": \"white\", \"minorgridcolor\": \"white\", \"startlinecolor\": \"#2a3f5f\"}, \"type\": \"carpet\"}], \"choropleth\": [{\"colorbar\": {\"outlinewidth\": 0, \"ticks\": \"\"}, \"type\": \"choropleth\"}], \"contour\": [{\"colorbar\": {\"outlinewidth\": 0, \"ticks\": \"\"}, \"colorscale\": [[0.0, \"#0d0887\"], [0.1111111111111111, \"#46039f\"], [0.2222222222222222, \"#7201a8\"], [0.3333333333333333, \"#9c179e\"], [0.4444444444444444, \"#bd3786\"], [0.5555555555555556, \"#d8576b\"], [0.6666666666666666, \"#ed7953\"], [0.7777777777777778, \"#fb9f3a\"], [0.8888888888888888, \"#fdca26\"], [1.0, \"#f0f921\"]], \"type\": \"contour\"}], \"contourcarpet\": [{\"colorbar\": {\"outlinewidth\": 0, \"ticks\": \"\"}, \"type\": \"contourcarpet\"}], \"heatmap\": [{\"colorbar\": {\"outlinewidth\": 0, \"ticks\": \"\"}, \"colorscale\": [[0.0, \"#0d0887\"], [0.1111111111111111, \"#46039f\"], [0.2222222222222222, \"#7201a8\"], [0.3333333333333333, \"#9c179e\"], [0.4444444444444444, \"#bd3786\"], [0.5555555555555556, \"#d8576b\"], [0.6666666666666666, \"#ed7953\"], [0.7777777777777778, \"#fb9f3a\"], [0.8888888888888888, \"#fdca26\"], [1.0, \"#f0f921\"]], \"type\": \"heatmap\"}], \"heatmapgl\": [{\"colorbar\": {\"outlinewidth\": 0, \"ticks\": \"\"}, \"colorscale\": [[0.0, \"#0d0887\"], [0.1111111111111111, \"#46039f\"], [0.2222222222222222, \"#7201a8\"], [0.3333333333333333, \"#9c179e\"], [0.4444444444444444, \"#bd3786\"], [0.5555555555555556, \"#d8576b\"], [0.6666666666666666, \"#ed7953\"], [0.7777777777777778, \"#fb9f3a\"], [0.8888888888888888, \"#fdca26\"], [1.0, \"#f0f921\"]], \"type\": \"heatmapgl\"}], \"histogram\": [{\"marker\": {\"colorbar\": {\"outlinewidth\": 0, \"ticks\": \"\"}}, \"type\": \"histogram\"}], \"histogram2d\": [{\"colorbar\": {\"outlinewidth\": 0, \"ticks\": \"\"}, \"colorscale\": [[0.0, \"#0d0887\"], [0.1111111111111111, \"#46039f\"], [0.2222222222222222, \"#7201a8\"], [0.3333333333333333, \"#9c179e\"], [0.4444444444444444, \"#bd3786\"], [0.5555555555555556, \"#d8576b\"], [0.6666666666666666, \"#ed7953\"], [0.7777777777777778, \"#fb9f3a\"], [0.8888888888888888, \"#fdca26\"], [1.0, \"#f0f921\"]], \"type\": \"histogram2d\"}], \"histogram2dcontour\": [{\"colorbar\": {\"outlinewidth\": 0, \"ticks\": \"\"}, \"colorscale\": [[0.0, \"#0d0887\"], [0.1111111111111111, \"#46039f\"], [0.2222222222222222, \"#7201a8\"], [0.3333333333333333, \"#9c179e\"], [0.4444444444444444, \"#bd3786\"], [0.5555555555555556, \"#d8576b\"], [0.6666666666666666, \"#ed7953\"], [0.7777777777777778, \"#fb9f3a\"], [0.8888888888888888, \"#fdca26\"], [1.0, \"#f0f921\"]], \"type\": \"histogram2dcontour\"}], \"mesh3d\": [{\"colorbar\": {\"outlinewidth\": 0, \"ticks\": \"\"}, \"type\": \"mesh3d\"}], \"parcoords\": [{\"line\": {\"colorbar\": {\"outlinewidth\": 0, \"ticks\": \"\"}}, \"type\": \"parcoords\"}], \"scatter\": [{\"marker\": {\"colorbar\": {\"outlinewidth\": 0, \"ticks\": \"\"}}, \"type\": \"scatter\"}], \"scatter3d\": [{\"line\": {\"colorbar\": {\"outlinewidth\": 0, \"ticks\": \"\"}}, \"marker\": {\"colorbar\": {\"outlinewidth\": 0, \"ticks\": \"\"}}, \"type\": \"scatter3d\"}], \"scattercarpet\": [{\"marker\": {\"colorbar\": {\"outlinewidth\": 0, \"ticks\": \"\"}}, \"type\": \"scattercarpet\"}], \"scattergeo\": [{\"marker\": {\"colorbar\": {\"outlinewidth\": 0, \"ticks\": \"\"}}, \"type\": \"scattergeo\"}], \"scattergl\": [{\"marker\": {\"colorbar\": {\"outlinewidth\": 0, \"ticks\": \"\"}}, \"type\": \"scattergl\"}], \"scattermapbox\": [{\"marker\": {\"colorbar\": {\"outlinewidth\": 0, \"ticks\": \"\"}}, \"type\": \"scattermapbox\"}], \"scatterpolar\": [{\"marker\": {\"colorbar\": {\"outlinewidth\": 0, \"ticks\": \"\"}}, \"type\": \"scatterpolar\"}], \"scatterpolargl\": [{\"marker\": {\"colorbar\": {\"outlinewidth\": 0, \"ticks\": \"\"}}, \"type\": \"scatterpolargl\"}], \"scatterternary\": [{\"marker\": {\"colorbar\": {\"outlinewidth\": 0, \"ticks\": \"\"}}, \"type\": \"scatterternary\"}], \"surface\": [{\"colorbar\": {\"outlinewidth\": 0, \"ticks\": \"\"}, \"colorscale\": [[0.0, \"#0d0887\"], [0.1111111111111111, \"#46039f\"], [0.2222222222222222, \"#7201a8\"], [0.3333333333333333, \"#9c179e\"], [0.4444444444444444, \"#bd3786\"], [0.5555555555555556, \"#d8576b\"], [0.6666666666666666, \"#ed7953\"], [0.7777777777777778, \"#fb9f3a\"], [0.8888888888888888, \"#fdca26\"], [1.0, \"#f0f921\"]], \"type\": \"surface\"}], \"table\": [{\"cells\": {\"fill\": {\"color\": \"#EBF0F8\"}, \"line\": {\"color\": \"white\"}}, \"header\": {\"fill\": {\"color\": \"#C8D4E3\"}, \"line\": {\"color\": \"white\"}}, \"type\": \"table\"}]}, \"layout\": {\"annotationdefaults\": {\"arrowcolor\": \"#2a3f5f\", \"arrowhead\": 0, \"arrowwidth\": 1}, \"colorscale\": {\"diverging\": [[0, \"#8e0152\"], [0.1, \"#c51b7d\"], [0.2, \"#de77ae\"], [0.3, \"#f1b6da\"], [0.4, \"#fde0ef\"], [0.5, \"#f7f7f7\"], [0.6, \"#e6f5d0\"], [0.7, \"#b8e186\"], [0.8, \"#7fbc41\"], [0.9, \"#4d9221\"], [1, \"#276419\"]], \"sequential\": [[0.0, \"#0d0887\"], [0.1111111111111111, \"#46039f\"], [0.2222222222222222, \"#7201a8\"], [0.3333333333333333, \"#9c179e\"], [0.4444444444444444, \"#bd3786\"], [0.5555555555555556, \"#d8576b\"], [0.6666666666666666, \"#ed7953\"], [0.7777777777777778, \"#fb9f3a\"], [0.8888888888888888, \"#fdca26\"], [1.0, \"#f0f921\"]], \"sequentialminus\": [[0.0, \"#0d0887\"], [0.1111111111111111, \"#46039f\"], [0.2222222222222222, \"#7201a8\"], [0.3333333333333333, \"#9c179e\"], [0.4444444444444444, \"#bd3786\"], [0.5555555555555556, \"#d8576b\"], [0.6666666666666666, \"#ed7953\"], [0.7777777777777778, \"#fb9f3a\"], [0.8888888888888888, \"#fdca26\"], [1.0, \"#f0f921\"]]}, \"colorway\": [\"#636efa\", \"#EF553B\", \"#00cc96\", \"#ab63fa\", \"#FFA15A\", \"#19d3f3\", \"#FF6692\", \"#B6E880\", \"#FF97FF\", \"#FECB52\"], \"font\": {\"color\": \"#2a3f5f\"}, \"geo\": {\"bgcolor\": \"white\", \"lakecolor\": \"white\", \"landcolor\": \"#E5ECF6\", \"showlakes\": true, \"showland\": true, \"subunitcolor\": \"white\"}, \"hoverlabel\": {\"align\": \"left\"}, \"hovermode\": \"closest\", \"mapbox\": {\"style\": \"light\"}, \"paper_bgcolor\": \"white\", \"plot_bgcolor\": \"#E5ECF6\", \"polar\": {\"angularaxis\": {\"gridcolor\": \"white\", \"linecolor\": \"white\", \"ticks\": \"\"}, \"bgcolor\": \"#E5ECF6\", \"radialaxis\": {\"gridcolor\": \"white\", \"linecolor\": \"white\", \"ticks\": \"\"}}, \"scene\": {\"xaxis\": {\"backgroundcolor\": \"#E5ECF6\", \"gridcolor\": \"white\", \"gridwidth\": 2, \"linecolor\": \"white\", \"showbackground\": true, \"ticks\": \"\", \"zerolinecolor\": \"white\"}, \"yaxis\": {\"backgroundcolor\": \"#E5ECF6\", \"gridcolor\": \"white\", \"gridwidth\": 2, \"linecolor\": \"white\", \"showbackground\": true, \"ticks\": \"\", \"zerolinecolor\": \"white\"}, \"zaxis\": {\"backgroundcolor\": \"#E5ECF6\", \"gridcolor\": \"white\", \"gridwidth\": 2, \"linecolor\": \"white\", \"showbackground\": true, \"ticks\": \"\", \"zerolinecolor\": \"white\"}}, \"shapedefaults\": {\"line\": {\"color\": \"#2a3f5f\"}}, \"ternary\": {\"aaxis\": {\"gridcolor\": \"white\", \"linecolor\": \"white\", \"ticks\": \"\"}, \"baxis\": {\"gridcolor\": \"white\", \"linecolor\": \"white\", \"ticks\": \"\"}, \"bgcolor\": \"#E5ECF6\", \"caxis\": {\"gridcolor\": \"white\", \"linecolor\": \"white\", \"ticks\": \"\"}}, \"title\": {\"x\": 0.05}, \"xaxis\": {\"automargin\": true, \"gridcolor\": \"white\", \"linecolor\": \"white\", \"ticks\": \"\", \"zerolinecolor\": \"white\", \"zerolinewidth\": 2}, \"yaxis\": {\"automargin\": true, \"gridcolor\": \"white\", \"linecolor\": \"white\", \"ticks\": \"\", \"zerolinecolor\": \"white\", \"zerolinewidth\": 2}}}},\n",
       "                        {\"responsive\": true}\n",
       "                    ).then(function(){\n",
       "                            \n",
       "var gd = document.getElementById('716e58ea-0465-41f3-9dbb-b2938710be7c');\n",
       "var x = new MutationObserver(function (mutations, observer) {{\n",
       "        var display = window.getComputedStyle(gd).display;\n",
       "        if (!display || display === 'none') {{\n",
       "            console.log([gd, 'removed!']);\n",
       "            Plotly.purge(gd);\n",
       "            observer.disconnect();\n",
       "        }}\n",
       "}});\n",
       "\n",
       "// Listen for the removal of the full notebook cells\n",
       "var notebookContainer = gd.closest('#notebook-container');\n",
       "if (notebookContainer) {{\n",
       "    x.observe(notebookContainer, {childList: true});\n",
       "}}\n",
       "\n",
       "// Listen for the clearing of the current output cell\n",
       "var outputEl = gd.closest('.output');\n",
       "if (outputEl) {{\n",
       "    x.observe(outputEl, {childList: true});\n",
       "}}\n",
       "\n",
       "                        })\n",
       "                };\n",
       "                });\n",
       "            </script>\n",
       "        </div>"
      ]
     },
     "metadata": {},
     "output_type": "display_data"
    }
   ],
   "source": [
    "optuna.visualization.plot_intermediate_values(study)"
   ]
  },
  {
   "cell_type": "code",
   "execution_count": null,
   "metadata": {
    "collapsed": true
   },
   "outputs": [],
   "source": []
  }
 ],
 "metadata": {
  "kernelspec": {
   "display_name": "Python 3",
   "language": "python",
   "name": "python3"
  },
  "language_info": {
   "codemirror_mode": {
    "name": "ipython",
    "version": 3
   },
   "file_extension": ".py",
   "mimetype": "text/x-python",
   "name": "python",
   "nbconvert_exporter": "python",
   "pygments_lexer": "ipython3",
   "version": "3.6.8"
  }
 },
 "nbformat": 4,
 "nbformat_minor": 2
}
